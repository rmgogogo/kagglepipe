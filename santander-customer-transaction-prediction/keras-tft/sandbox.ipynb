{
 "cells": [
  {
   "cell_type": "markdown",
   "metadata": {},
   "source": [
    "# TFMA Visualization"
   ]
  },
  {
   "cell_type": "code",
   "execution_count": null,
   "metadata": {},
   "outputs": [],
   "source": [
    "# To enable TFMA visulization, please enable the Notebook Extention and restart kernel.\n",
    "!jupyter nbextension enable --py widgetsnbextension\n",
    "!jupyter nbextension enable --py tensorflow_model_analysis"
   ]
  },
  {
   "cell_type": "code",
   "execution_count": null,
   "metadata": {},
   "outputs": [],
   "source": [
    "import tensorflow_model_analysis as tfma\n",
    "import tensorflow as tf\n",
    "import os\n",
    "import json\n",
    "\n",
    "eval_result_folder = \"/var/tmp/santander/keras-tft/Evaluator/evaluation/46\"\n",
    "# replace your evaluation result path which should contains a \"eval_config.json\"\n",
    "eval_result = tfma.load_eval_result(eval_result_folder)\n",
    "print('eval result loaded')"
   ]
  },
  {
   "cell_type": "code",
   "execution_count": null,
   "metadata": {},
   "outputs": [],
   "source": [
    "def get_slicing_spec(eval_result_folder):\n",
    "    config_file=tf.io.gfile.GFile(os.path.join(eval_result_folder, 'eval_config.json'), 'r')\n",
    "    config=json.loads(config_file.read())\n",
    "    feature_keys=list(filter(lambda x: 'featureKeys' in x, config['evalConfig']['slicingSpecs']))\n",
    "    columns=[] if len(feature_keys) == 0 else feature_keys[0]['featureKeys']\n",
    "    return tfma.slicer.SingleSliceSpec(columns=columns)\n",
    "\n",
    "# Or hardcode one\n",
    "# tfma.view.render_slicing_metrics(eval_result, slicing_column='var_0')\n",
    "slicing_spec = get_slicing_spec(eval_result_folder)\n",
    "tfma.view.render_slicing_metrics(eval_result, slicing_spec=slicing_spec)"
   ]
  },
  {
   "cell_type": "markdown",
   "metadata": {},
   "source": [
    "# TensorBoard Visualization on TFT"
   ]
  },
  {
   "cell_type": "markdown",
   "metadata": {},
   "source": [
    "\n",
    "```shell\n",
    "curl https://raw.githubusercontent.com/tensorflow/tensorflow/master/tensorflow/python/tools/import_pb_to_tensorboard.py > import_pb_to_tensorboard.py\n",
    "\n",
    "python import_pb_to_tensorboard.py --model_dir /var/tmp/santander/pusher/1587532679/ --log_dir /var/tmp/santander/tmp/\n",
    "\n",
    "tensorboard --logdir=/var/tmp/santander/tmp/\n",
    "```\n",
    "\n"
   ]
  },
  {
   "cell_type": "markdown",
   "metadata": {},
   "source": [
    "# Beam"
   ]
  },
  {
   "cell_type": "code",
   "execution_count": 14,
   "metadata": {},
   "outputs": [
    {
     "name": "stdout",
     "output_type": "stream",
     "text": [
      "[('p', 1), ('a', 2), ('z', 3), ('m', 2)]\n",
      "[('a', 2), ('m', 2), ('p', 1), ('z', 3)]\n",
      "ID_code,target\r\n",
      "a,2\r\n",
      "m,2\r\n",
      "p,1\r\n",
      "z,3\r\n"
     ]
    }
   ],
   "source": [
    "import apache_beam as beam\n",
    "\n",
    "data = []\n",
    "with beam.Pipeline() as pipeline:\n",
    "  intrim = pipeline | 'Data' >> beam.Create([\n",
    "          ('p', 1),\n",
    "          ('a', 2),\n",
    "          ('z', 3),\n",
    "          ('m', 2),])\n",
    "  intrim = intrim | 'Sink' >> beam.Map(lambda item: data.append(item))\n",
    "\n",
    "print(data)\n",
    "data.sort(key = lambda item: item[0] )\n",
    "print(data)\n",
    "\n",
    "with open('/var/tmp/tmp.csv', 'w') as file:\n",
    "  file.write('ID_code,target\\n')\n",
    "  for item in data:\n",
    "    file.write('{0},{1}\\n'.format(item[0], item[1])) \n",
    "    \n",
    "!cat /var/tmp/tmp.csv"
   ]
  },
  {
   "cell_type": "code",
   "execution_count": 24,
   "metadata": {},
   "outputs": [
    {
     "name": "stdout",
     "output_type": "stream",
     "text": [
      "[('a', 2), ('m', 2), ('p', 1), ('p', 3)]\n"
     ]
    }
   ],
   "source": [
    "import apache_beam as beam\n",
    "from apache_beam.transforms.userstate import CombiningValueStateSpec\n",
    "from apache_beam.transforms.core import GroupByKey\n",
    "\n",
    "class IndexAssigningStatefulDoFn(beam.DoFn):\n",
    "  # per-key-and-window, first in element is key\n",
    "  index_state = beam.DoFn.StateParam(CombiningValueStateSpec('index', sum))\n",
    "  \n",
    "  def __init__(self):\n",
    "    # unmanaged state only can work in single-processor multi-thread env\n",
    "    self.unmanaged_state = 10\n",
    "  \n",
    "  def process(self, element, index=index_state):\n",
    "    current_index = index.read()\n",
    "    index.add(1)\n",
    "    self.unmanaged_state = self.unmanaged_state + 1\n",
    "    print(self.unmanaged_state)\n",
    "    yield (element, current_index)\n",
    "\n",
    "def sort_data(data):\n",
    "  result = data.copy()\n",
    "  result.sort(key=lambda item: item[0])\n",
    "  return result\n",
    "\n",
    "with beam.Pipeline(options=beam.options.pipeline_options.PipelineOptions(direct_num_workers=4)) as pipeline:\n",
    "  intrim = pipeline | 'Data' >> beam.Create([\n",
    "          ('p', 1),\n",
    "          ('a', 2),\n",
    "          ('p', 3),\n",
    "          ('m', 2),])\n",
    "  intrim = intrim | beam.Map(lambda it: (0, it)) # same key\n",
    "  intrim = intrim | 'window' >> beam.WindowInto(beam.window.GlobalWindows()) # same window\n",
    "  intrim = intrim | GroupByKey() # all to one\n",
    "  # intrim = intrim | beam.ParDo(IndexAssigningStatefulDoFn())\n",
    "  intrim = intrim | beam.Map(lambda item: item[1]) # remove dummy key\n",
    "  intrim = intrim | beam.Map(sort_data) # sort all-in-one\n",
    "  intrim = intrim | beam.Map(print)\n"
   ]
  },
  {
   "cell_type": "code",
   "execution_count": 3,
   "metadata": {},
   "outputs": [
    {
     "ename": "AttributeError",
     "evalue": "'list' object has no attribute 'sortAll'",
     "output_type": "error",
     "traceback": [
      "\u001b[0;31m---------------------------------------------------------------------------\u001b[0m",
      "\u001b[0;31mAttributeError\u001b[0m                            Traceback (most recent call last)",
      "\u001b[0;32m<ipython-input-3-92aedde3ea9a>\u001b[0m in \u001b[0;36m<module>\u001b[0;34m\u001b[0m\n\u001b[1;32m      5\u001b[0m \u001b[0;34m\u001b[0m\u001b[0m\n\u001b[1;32m      6\u001b[0m \u001b[0ma\u001b[0m \u001b[0;34m=\u001b[0m \u001b[0;34m[\u001b[0m\u001b[0;34m(\u001b[0m\u001b[0;34m'test_0'\u001b[0m\u001b[0;34m,\u001b[0m \u001b[0;36m1\u001b[0m\u001b[0;34m)\u001b[0m\u001b[0;34m,\u001b[0m \u001b[0;34m(\u001b[0m\u001b[0;34m'test_10'\u001b[0m\u001b[0;34m,\u001b[0m \u001b[0;36m2\u001b[0m\u001b[0;34m)\u001b[0m\u001b[0;34m,\u001b[0m \u001b[0;34m(\u001b[0m\u001b[0;34m'test_2'\u001b[0m\u001b[0;34m,\u001b[0m \u001b[0;36m3\u001b[0m\u001b[0;34m)\u001b[0m\u001b[0;34m]\u001b[0m\u001b[0;34m\u001b[0m\u001b[0;34m\u001b[0m\u001b[0m\n\u001b[0;32m----> 7\u001b[0;31m \u001b[0ma\u001b[0m\u001b[0;34m.\u001b[0m\u001b[0msortAll\u001b[0m\u001b[0;34m(\u001b[0m\u001b[0mcmp\u001b[0m\u001b[0;34m=\u001b[0m\u001b[0mcompare\u001b[0m\u001b[0;34m)\u001b[0m\u001b[0;34m\u001b[0m\u001b[0;34m\u001b[0m\u001b[0m\n\u001b[0m\u001b[1;32m      8\u001b[0m \u001b[0ma\u001b[0m\u001b[0;34m\u001b[0m\u001b[0;34m\u001b[0m\u001b[0m\n",
      "\u001b[0;31mAttributeError\u001b[0m: 'list' object has no attribute 'sortAll'"
     ]
    }
   ],
   "source": [
    "def compare(a, b):\n",
    "  ka = a[0]\n",
    "  kb = b[0]\n",
    "  return int(ka[5:]) <= int(kb[5:])\n",
    "\n",
    "a = [('test_0', 1), ('test_10', 2), ('test_2', 3)]\n",
    "a.sortAll(cmp=compare)\n",
    "a"
   ]
  },
  {
   "cell_type": "code",
   "execution_count": null,
   "metadata": {},
   "outputs": [],
   "source": []
  }
 ],
 "metadata": {
  "kernelspec": {
   "display_name": "Python 3",
   "language": "python",
   "name": "python3"
  },
  "language_info": {
   "codemirror_mode": {
    "name": "ipython",
    "version": 3
   },
   "file_extension": ".py",
   "mimetype": "text/x-python",
   "name": "python",
   "nbconvert_exporter": "python",
   "pygments_lexer": "ipython3",
   "version": "3.7.6"
  }
 },
 "nbformat": 4,
 "nbformat_minor": 4
}
