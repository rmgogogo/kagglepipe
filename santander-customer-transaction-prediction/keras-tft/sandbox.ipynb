{
 "cells": [
  {
   "cell_type": "markdown",
   "metadata": {},
   "source": [
    "# TFMA Visualization"
   ]
  },
  {
   "cell_type": "code",
   "execution_count": null,
   "metadata": {},
   "outputs": [],
   "source": [
    "# To enable TFMA visulization, please enable the Notebook Extention and restart kernel.\n",
    "!jupyter nbextension enable --py widgetsnbextension\n",
    "!jupyter nbextension enable --py tensorflow_model_analysis"
   ]
  },
  {
   "cell_type": "code",
   "execution_count": null,
   "metadata": {},
   "outputs": [],
   "source": [
    "import tensorflow_model_analysis as tfma\n",
    "import tensorflow as tf\n",
    "import os\n",
    "import json\n",
    "\n",
    "eval_result_folder = \"/var/tmp/santander/keras-tft/Evaluator/evaluation/46\"\n",
    "# replace your evaluation result path which should contains a \"eval_config.json\"\n",
    "eval_result = tfma.load_eval_result(eval_result_folder)\n",
    "print('eval result loaded')"
   ]
  },
  {
   "cell_type": "code",
   "execution_count": null,
   "metadata": {},
   "outputs": [],
   "source": [
    "def get_slicing_spec(eval_result_folder):\n",
    "    config_file=tf.io.gfile.GFile(os.path.join(eval_result_folder, 'eval_config.json'), 'r')\n",
    "    config=json.loads(config_file.read())\n",
    "    feature_keys=list(filter(lambda x: 'featureKeys' in x, config['evalConfig']['slicingSpecs']))\n",
    "    columns=[] if len(feature_keys) == 0 else feature_keys[0]['featureKeys']\n",
    "    return tfma.slicer.SingleSliceSpec(columns=columns)\n",
    "\n",
    "# Or hardcode one\n",
    "# tfma.view.render_slicing_metrics(eval_result, slicing_column='var_0')\n",
    "slicing_spec = get_slicing_spec(eval_result_folder)\n",
    "tfma.view.render_slicing_metrics(eval_result, slicing_spec=slicing_spec)"
   ]
  },
  {
   "cell_type": "markdown",
   "metadata": {},
   "source": [
    "# TensorBoard Visualization on TFT"
   ]
  },
  {
   "cell_type": "markdown",
   "metadata": {},
   "source": [
    "\n",
    "```shell\n",
    "curl https://raw.githubusercontent.com/tensorflow/tensorflow/master/tensorflow/python/tools/import_pb_to_tensorboard.py > import_pb_to_tensorboard.py\n",
    "\n",
    "python import_pb_to_tensorboard.py --model_dir /var/tmp/santander/pusher/1587532679/ --log_dir /var/tmp/santander/tmp/\n",
    "\n",
    "tensorboard --logdir=/var/tmp/santander/tmp/\n",
    "```\n",
    "\n"
   ]
  }
 ],
 "metadata": {
  "kernelspec": {
   "display_name": "Python 3",
   "language": "python",
   "name": "python3"
  },
  "language_info": {
   "codemirror_mode": {
    "name": "ipython",
    "version": 3
   },
   "file_extension": ".py",
   "mimetype": "text/x-python",
   "name": "python",
   "nbconvert_exporter": "python",
   "pygments_lexer": "ipython3",
   "version": "3.7.5"
  }
 },
 "nbformat": 4,
 "nbformat_minor": 4
}
